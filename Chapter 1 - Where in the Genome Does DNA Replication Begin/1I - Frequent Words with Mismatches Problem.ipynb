{
 "cells": [
  {
   "cell_type": "markdown",
   "metadata": {},
   "source": [
    "__[Problem 1I](http://rosalind.info/problems/ba1i/)__\n",
    "\n",
    ">  __Frequent Words with Mismatches Problem__ - `FreqWordsMismatches( text, k, d )`\n",
    "\n",
    "*Objective:* Find the most frequent $k$-mers with mismatches in a string\n",
    "\n",
    "*  Input: a DNA string (*Text*), and integers $k, d$\n",
    "*  Output: all most frequent $k$-mers with up to $d$ mismatches in *Text*\n",
    "\n",
    "Def:\n",
    "*  given strings *Text*, *Pattern*, and integer $d$, we define $\\textit{Count}_d(\\textit{Text, Pattern})$ as the total number of occurences of *Pattern* in *Text* with a most $d$ mismatches,\n",
    "*  a __most frequent $k$-mer with up to $d$ mismatches__ is *Text* is a string *Pattern* maximizing $\\textit{Count}_d(\\textit{Text, Pattern})$ among all $k$-mers."
   ]
  },
  {
   "cell_type": "code",
   "execution_count": 1,
   "metadata": {},
   "outputs": [],
   "source": [
    "def d_Nbhd(Pattern, d):\n",
    "    \n",
    "    # Trivial cases\n",
    "    if d == 0:\n",
    "        return Pattern\n",
    "    if len(Pattern) == 1:\n",
    "        return ['A', 'C', 'G', 'T']\n",
    "    \n",
    "    Nbhd = set()\n",
    "    Suffix_Pattern = Pattern[1:]\n",
    "    Suffix_Nbhd = d_Nbhd(Suffix_Pattern, d)\n",
    "    \n",
    "    for text in Suffix_Nbhd:\n",
    "        if HammingDistance(Suffix_Pattern, text) < d:\n",
    "            for x in ['A', 'C', 'G', 'T']:\n",
    "                if (x + text) not in Nbhd:\n",
    "                    Nbhd.add(x + text)\n",
    "        else:\n",
    "            if (Pattern[0] + text) not in Nbhd:\n",
    "                Nbhd.add(Pattern[0] + text)\n",
    "        \n",
    "    return Nbhd"
   ]
  },
  {
   "cell_type": "code",
   "execution_count": 2,
   "metadata": {},
   "outputs": [],
   "source": [
    "def HammingDistance(String1, String2):\n",
    "    if len(String1) != len(String2):\n",
    "        distance = 'Error: Lengths do not match.'\n",
    "    else:\n",
    "        distance = 0\n",
    "        for i in range(0,len(String1)):\n",
    "            if String1[i] != String2[i]:\n",
    "                distance += 1\n",
    "    return distance"
   ]
  },
  {
   "cell_type": "code",
   "execution_count": 3,
   "metadata": {},
   "outputs": [],
   "source": [
    "def FreqWordsMismatches( Text, k, d ):\n",
    "    \n",
    "    # Initialize helper values, lists\n",
    "    noChar = len(Text)\n",
    "    pttn_Nbhd = set()\n",
    "    \n",
    "    # Loop 1: Get all possible k-mers with <= d mismatches from what observed\n",
    "    for i in range(0, noChar-k+1):\n",
    "        pattern = Text[i:i+k]\n",
    "        # Small fix for if d=0, pattern is a set of length 1, need to convert to list\n",
    "        if d == 0:\n",
    "            pttn_Nbhd = pttn_Nbhd.union([d_Nbhd(pattern, d)])\n",
    "        else:\n",
    "            pttn_Nbhd = pttn_Nbhd.union(d_Nbhd(pattern, d))\n",
    "    # Convert final d-nbhd set to a list\n",
    "    pttn_Nbhd = list(pttn_Nbhd)\n",
    "        \n",
    "    # Loop 2: Get Frequency of each of those k-mers from from Loop 1\n",
    "    count_arr = []\n",
    "    for pttn in pttn_Nbhd:\n",
    "        # Initialize count of current pattern\n",
    "        count = 0\n",
    "        # Loop 2.1: Consider each pattern string in Text\n",
    "        for i in range(0, noChar-k+1):\n",
    "            # Get current string\n",
    "            stringText = Text[i:i+k]\n",
    "            # Check for if Hamming distance <= d\n",
    "            if HammingDistance(pttn, stringText) <= d:\n",
    "                count += 1\n",
    "        # Done counting, add to record\n",
    "        count_arr.append(count)\n",
    "    \n",
    "    max_count = max(count_arr)\n",
    "    indices = [i for i, x in enumerate(count_arr) if x == max_count]\n",
    "    \n",
    "    most_freq = []\n",
    "    for i in range(0,len(indices)):\n",
    "        most_freq.append(pttn_Nbhd[indices[i]])\n",
    "    \n",
    "    return most_freq"
   ]
  },
  {
   "cell_type": "code",
   "execution_count": 4,
   "metadata": {},
   "outputs": [
    {
     "name": "stdout",
     "output_type": "stream",
     "text": [
      "Sample test: ['ATGC', 'ATGT', 'GATG']\n"
     ]
    }
   ],
   "source": [
    "Text = 'ACGTTGCATGTCGCATGATGCATGAGAGCT'\n",
    "print('Sample test: ' + str(FreqWordsMismatches(Text,4,1)))"
   ]
  },
  {
   "cell_type": "code",
   "execution_count": 5,
   "metadata": {},
   "outputs": [
    {
     "name": "stdout",
     "output_type": "stream",
     "text": [
      "Test 1: ['AT', 'AA', 'GA', 'CA', 'TA', 'AG', 'AC']\n"
     ]
    }
   ],
   "source": [
    "Text = 'AAAAAAAAAA'\n",
    "print('Test 1: ' + str(FreqWordsMismatches(Text,2,1)))"
   ]
  },
  {
   "cell_type": "code",
   "execution_count": 6,
   "metadata": {},
   "outputs": [
    {
     "name": "stdout",
     "output_type": "stream",
     "text": [
      "Test 2: ['GGCC', 'GTTC', 'TCTC', 'CGTT', 'ACAC', 'TGTG', 'AGAG', 'GGTA', 'ACTG', 'AGGT', 'AGCA', 'CATC', 'AATT', 'ATTA', 'CGGC', 'TGAC', 'AAGC', 'ATCC']\n"
     ]
    }
   ],
   "source": [
    "Text = 'AGTCAGTC'\n",
    "print('Test 2: ' + str(FreqWordsMismatches(Text,4,2)))"
   ]
  },
  {
   "cell_type": "code",
   "execution_count": 7,
   "metadata": {},
   "outputs": [
    {
     "name": "stdout",
     "output_type": "stream",
     "text": [
      "Test 3: ['GGTA']\n"
     ]
    }
   ],
   "source": [
    "Text = 'AATTAATTGGTAGGTAGGTA'\n",
    "print('Test 3: ' + str(FreqWordsMismatches(Text,4,0)))"
   ]
  },
  {
   "cell_type": "code",
   "execution_count": 8,
   "metadata": {},
   "outputs": [
    {
     "name": "stdout",
     "output_type": "stream",
     "text": [
      "Test 4: ['AGA', 'AAA', 'CTA', 'TTA', 'ATA', 'ATC', 'ATT', 'ACA', 'GTA', 'ATG']\n"
     ]
    }
   ],
   "source": [
    "Text = 'ATA'\n",
    "print('Test 4: ' + str(FreqWordsMismatches(Text,3,1)))"
   ]
  },
  {
   "cell_type": "code",
   "execution_count": 9,
   "metadata": {},
   "outputs": [
    {
     "name": "stdout",
     "output_type": "stream",
     "text": [
      "Test 5: ['AAT']\n"
     ]
    }
   ],
   "source": [
    "Text = 'AAT'\n",
    "print('Test 5: ' + str(FreqWordsMismatches(Text,3,0)))"
   ]
  },
  {
   "cell_type": "code",
   "execution_count": 10,
   "metadata": {},
   "outputs": [
    {
     "name": "stdout",
     "output_type": "stream",
     "text": [
      "Test 6: ['GG', 'TG']\n"
     ]
    }
   ],
   "source": [
    "Text = 'TAGCG'\n",
    "print('Test 6: ' + str(FreqWordsMismatches(Text,2,1)))"
   ]
  },
  {
   "cell_type": "code",
   "execution_count": 11,
   "metadata": {},
   "outputs": [
    {
     "name": "stdout",
     "output_type": "stream",
     "text": [
      "Extra Test: ['GCACACAGAC', 'GCGCACACAC']\n"
     ]
    }
   ],
   "source": [
    "Text = 'CACAGTAGGCGCCGGCACACACAGCCCCGGGCCCCGGGCCGCCCCGGGCCGGCGGCCGCCGGCGCCGGCACACCGGCACAGCCGTACCGGCACAGTAGTACCGGCCGGCCGGCACACCGGCACACCGGGTACACACCGGGGCGCACACACAGGCGGGCGCCGGGCCCCGGGCCGTACCGGGCCGCCGGCGGCCCACAGGCGCCGGCACAGTACCGGCACACACAGTAGCCCACACACAGGCGGGCGGTAGCCGGCGCACACACACACAGTAGGCGCACAGCCGCCCACACACACCGGCCGGCCGGCACAGGCGGGCGGGCGCACACACACCGGCACAGTAGTAGGCGGCCGGCGCACAGCC'\n",
    "print('Extra Test: ' + str(FreqWordsMismatches(Text,10,2)))"
   ]
  },
  {
   "cell_type": "markdown",
   "metadata": {},
   "source": [
    "<br/>\n",
    "\n",
    "[Rosalind final test:](http://rosalind.info/problems/ba1i/)"
   ]
  },
  {
   "cell_type": "code",
   "execution_count": 12,
   "metadata": {},
   "outputs": [
    {
     "name": "stdout",
     "output_type": "stream",
     "text": [
      "Final test: ['TAAAA']\n"
     ]
    }
   ],
   "source": [
    "Text = 'GGGGGGATCTGGGGGGATCTGGGGGGATCTAGAAAACGGAGAAAACGGAGAAAACGGTATGTCGGTTATAACTCGGGGGGATCTGGGGGGATCTGGGGGGATCTTATAACTCTATGTCGGTTGCTTGAACAAGAAAACGGAGAAAACGGTGCTTGAACATATAACTCTATAACTCTATGTCGGTTGCTTGAACATGCTTGAACAGGGGGGATCTTATAACTCTGCTTGAACAAGAAAACGGTGCTTGAACAGGGGGGATCTTGCTTGAACATATAACTCAGAAAACGGTATGTCGGTTATGTCGGTTGCTTGAACAGGGGGGATCTTATAACTCTGCTTGAACATGCTTGAACATATGTCGGTGGGGGGATCTTATGTCGGTTATGTCGGTTATAACTCAGAAAACGGTGCTTGAACATATAACTCTATGTCGGTTGCTTGAACAAGAAAACGGAGAAAACGGTATAACTCAGAAAACGGTATAACTCTGCTTGAACATATGTCGGTAGAAAACGGTGCTTGAACATATAACTCTGCTTGAACATATGTCGGTAGAAAACGGAGAAAACGGTGCTTGAACATGCTTGAACATATAACTCAGAAAACGGGGGGGGATCTAGAAAACGGTATGTCGGTTGCTTGAACAAGAAAACGGTGCTTGAACAAGAAAACGGTATGTCGGTGGGGGGATCTTGCTTGAACATGCTTGAACAAGAAAACGGAGAAAACGGAGAAAACGGAGAAAACGGGGGGGGATCTTGCTTGAACATGCTTGAACAGGGGGGATCTTATGTCGGTTATAACTCGGGGGGATCTTGCTTGAACATATGTCGGTTGCTTGAACATGCTTGAACATGCTTGAACATGCTTGAACAAGAAAACGGAGAAAACGGTATAACTCTGCTTGAACA'\n",
    "answer = FreqWordsMismatches(Text,5,2)\n",
    "print('Final test: ' + str(answer))"
   ]
  }
 ],
 "metadata": {
  "kernelspec": {
   "display_name": "Python 3",
   "language": "python",
   "name": "python3"
  },
  "language_info": {
   "codemirror_mode": {
    "name": "ipython",
    "version": 3
   },
   "file_extension": ".py",
   "mimetype": "text/x-python",
   "name": "python",
   "nbconvert_exporter": "python",
   "pygments_lexer": "ipython3",
   "version": "3.7.6"
  }
 },
 "nbformat": 4,
 "nbformat_minor": 4
}

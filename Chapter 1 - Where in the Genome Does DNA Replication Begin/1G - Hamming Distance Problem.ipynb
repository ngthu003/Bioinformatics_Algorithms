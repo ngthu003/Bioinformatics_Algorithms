{
 "cells": [
  {
   "cell_type": "markdown",
   "metadata": {},
   "source": [
    "__[Problem 1G](http://rosalind.info/problems/ba1g/)__\n",
    "\n",
    ">  __Hamming Distance Problem__ - `HammingDistance(String1,String2)`\n",
    "\n",
    "*Objective:* Compute the Hamming distance between two DNA strings\n",
    "\n",
    "*  Input: 2 DNA strings\n",
    "*  Output: an integer value representing the Hamming distance"
   ]
  },
  {
   "cell_type": "code",
   "execution_count": 1,
   "metadata": {},
   "outputs": [],
   "source": [
    "def HammingDistance(String1, String2):\n",
    "    if len(String1) != len(String2):\n",
    "        distance = 'Error: Lengths do not match.'\n",
    "    else:\n",
    "        distance = 0\n",
    "        for i in range(0,len(String1)):\n",
    "            if String1[i] != String2[i]:\n",
    "                distance += 1\n",
    "    return distance"
   ]
  },
  {
   "cell_type": "code",
   "execution_count": 2,
   "metadata": {},
   "outputs": [
    {
     "name": "stdout",
     "output_type": "stream",
     "text": [
      "Sample test: Hamming distance is 3\n"
     ]
    }
   ],
   "source": [
    "print('Sample test: Hamming distance is ' + str(HammingDistance('GGGCCGTTGGT', 'GGACCGTTGAC')))"
   ]
  },
  {
   "cell_type": "code",
   "execution_count": 3,
   "metadata": {},
   "outputs": [
    {
     "name": "stdout",
     "output_type": "stream",
     "text": [
      "Test 1: Hamming distance is 4\n"
     ]
    }
   ],
   "source": [
    "print('Test 1: Hamming distance is ' + str(HammingDistance('AAAA', 'TTTT')))"
   ]
  },
  {
   "cell_type": "code",
   "execution_count": 4,
   "metadata": {},
   "outputs": [
    {
     "name": "stdout",
     "output_type": "stream",
     "text": [
      "Test 2: Hamming distance is 8\n"
     ]
    }
   ],
   "source": [
    "print('Test 2: Hamming distance is ' + str(HammingDistance('ACGTACGT', 'TACGTACG')))"
   ]
  },
  {
   "cell_type": "code",
   "execution_count": 5,
   "metadata": {},
   "outputs": [
    {
     "name": "stdout",
     "output_type": "stream",
     "text": [
      "Test 3: Hamming distance is 6\n"
     ]
    }
   ],
   "source": [
    "print('Test 3: Hamming distance is ' + str(HammingDistance('ACGTACGT', 'CCCCCCCC')))"
   ]
  },
  {
   "cell_type": "code",
   "execution_count": 6,
   "metadata": {},
   "outputs": [
    {
     "name": "stdout",
     "output_type": "stream",
     "text": [
      "Test 4: Hamming distance is 8\n"
     ]
    }
   ],
   "source": [
    "print('Test 4: Hamming distance is ' + str(HammingDistance('ACGTACGT', 'TGCATGCA')))"
   ]
  },
  {
   "cell_type": "code",
   "execution_count": 7,
   "metadata": {},
   "outputs": [
    {
     "name": "stdout",
     "output_type": "stream",
     "text": [
      "Test 5: Hamming distance is 15\n"
     ]
    }
   ],
   "source": [
    "str1 = 'GATAGCAGCTTCTGAACTGGTTACCTGCCGTGAGTAAATTAAAATTTTATTGACTTAGGTCACTAAATACT'\n",
    "str2 = 'AATAGCAGCTTCTCAACTGGTTACCTCGTATGAGTAAATTAGGTCATTATTGACTCAGGTCACTAACGTCT'\n",
    "print('Test 5: Hamming distance is ' + str(HammingDistance(str1, str2)))"
   ]
  },
  {
   "cell_type": "code",
   "execution_count": 8,
   "metadata": {},
   "outputs": [
    {
     "name": "stdout",
     "output_type": "stream",
     "text": [
      "Test 5: Hamming distance is 28\n"
     ]
    }
   ],
   "source": [
    "str1 = 'AGAAACAGACCGCTATGTTCAACGATTTGTTTTATCTCGTCACCGGGATATTGCGGCCACTCATCGGTCAGTTGATTACGCAGGGCGTAAATCGCCAGAATCAGGCTG'\n",
    "str2 = 'AGAAACCCACCGCTAAAAACAACGATTTGCGTAGTCAGGTCACCGGGATATTGCGGCCACTAAGGCCTTGGATGATTACGCAGAACGTATTGACCCAGAATCAGGCTC'\n",
    "print('Test 5: Hamming distance is ' + str(HammingDistance(str1, str2)))"
   ]
  },
  {
   "cell_type": "markdown",
   "metadata": {},
   "source": [
    "<br/>\n",
    "\n",
    "[Rosalind final test:](http://rosalind.info/problems/ba1g/)"
   ]
  },
  {
   "cell_type": "code",
   "execution_count": 9,
   "metadata": {},
   "outputs": [
    {
     "data": {
      "text/plain": [
       "808"
      ]
     },
     "execution_count": 9,
     "metadata": {},
     "output_type": "execute_result"
    }
   ],
   "source": [
    "str1 = 'GAGGGTGGCAAAATAGACAAGGACAATATCCGTTTGACGCCACTCGAAACCTGGAGGTCCTGTGAATATATAAGCACGATAGTAATGGTAGCATTATGGTTTTGTCTATATAAGCTACGTCCTATATAGGTCTGAGGCCGGTGACTGTTGATACGCTGTGCCACTATGTCATTTGGCTTCCGACAGAGAGGTACGGCAGCGTATGCGGTACTTAGTGGGCTACCAGTTCGGGATCTGATGCGAAGAAATGTCCTCCCTGTGCGCACGAGCTAGGATGATTATCGGCGAAGATGCACTACCCAACGACCACTCCGCGAATGTGCGTTGGTACAGCGGCCCGGGAATAGCTGCCAATACGACAATGCAATGGTGCCGATGCATATACGCCGTTTAAGTAGTCTAGCGGTCATAATGGCCGTTCCCCTTGGTTTAATATCCACTTTTAATTTCGAGGTGGCGCCACGTCCCCGCTTAGAATTTGACAACCACCCGCCTTTGCTGAAGAGTTGCGGAATGTGCCTTGGACACGCAAGGCATAAGTGATTTTTGTCGTAAAAGCGAATGGGGCAATAACGGTGAATTCCTCGTCTAGTTAGGTGGGCCATCATTGTAATAGTCGCACCTTACACCAGGTGGGTGTTCTACGCCCTCCTAAGGGCGGGAAAGGGCCGGTAACGTGCTTGACTACACCCAGGTAGGCTATTTGGAAGGGAAGGGACTTGCTTAGTCCCCTACGGTTTGGGGCCTTTGACTGGCTGGTATCTACAGTGGGGTGACATACGTGTGGCGGGCAACGATGGTTCGGCAGGAGCGACCCCGCTCGGGCGGGGTGTCCACCGTCACAGGAGTTTACTCTAAGGTACCAGGCTTATAAATGCTTGGGATACAGTTAAGGGCATCAGACTTCACATGCCGAATAGTCTCATAGTGCTTGGAACAAAGCTGCTCATCACCAGTTCTTCAATCTGTCGTTTTAATTTAGTCTCTCTTGTCGTCGAGAGGCATACTTATGAGTATCGTTGACCGGCTTCGTCCCAGAAAGCAGTCATGAGCTTTGTTTTTGGTATGTTAGTATTA'\n",
    "str2 = 'ACACAGGACGAACAACACGCCCGTGCTTTAAGACATGCCAATGAGACAGTTGTGTTTCTCATTCGGGGTTTCTCATCATACTTGTCGAGGCAAGATCGCAGCAACCCACACGAAACGGCAATACAGCATATCTTGCCGGTGATCGCGTTGCTTGCTCATCTCTATTATCAAACTCTCAGGATCCAGACGATCTCTAACGTTCAAGGGCGCTTGACGGATGATATTGCACCGGTGCAATGCCGAAATATGATCCTTTCTTTACCTATGACAGTTCGTAACGTCCTTGTTCGACCCTTGATCGGCTTAGATCCGCTTTTACCACCACGCTAAACGAAGCTTCTACAGCAGCTATCCACAACCTCGATCTGGTTGCGGAGAACTTCTACTGTATAGGACGGCTAGTTATCTTTTCTTTCTCTGCCAAAGCGCCTCGCACGCCGTTCTTACAAGGCCACCCATCTCAAACGGTCCCGGGAACATACCTACCGTCTCTTGACAGGCAGACCCAATTCCCGATGCGTGCTGCTCTCTCATATCGGCCGATGTTGAGAAGGAACTGTTAGGCCCATCATGGTAACCTCATCTTCGACTTAACCGCTGAGCTCCCGGCGCTCAACCACCTGCGGGCAACACTACGATGGGCTGAGAAAGCTCCCAGTTTTAAAGTCACCAGGTGACGAAGATGTCTGGCGACTTTACGGTCAGTTGATCTAGTGCTCCTTACTGATGGGGCAGGCAGGACGAGCCTAGGCGACATCGAGGCATGGTGTGCGGGTAATCGCGAACAGAGTCTAATGAGCGTCTTTGCGCGTCATGGCTTTCCTAAGAGGGCGCTGTACGTTTTGTATTGCTGGGGCATTCCGTATTCCGACTATATACTACCGGACAGGCGCCTGATTGGAATTCTCAAAGTCGAGCCCCCTACACCGTCACGGTGAACCGGATTAGACCGTTATCGCGAAGTGGAATAACACTTAAGGCGCCCTCATGCCTTAATCCTGCACTACTATGCGACTATAACGTGTAACATGCCTCCGTGGGAACGTCCCAGCCGCTACTTCTCGCGTCACCAGACAC'\n",
    "HammingDistance(str1, str2)"
   ]
  }
 ],
 "metadata": {
  "kernelspec": {
   "display_name": "Python 3",
   "language": "python",
   "name": "python3"
  },
  "language_info": {
   "codemirror_mode": {
    "name": "ipython",
    "version": 3
   },
   "file_extension": ".py",
   "mimetype": "text/x-python",
   "name": "python",
   "nbconvert_exporter": "python",
   "pygments_lexer": "ipython3",
   "version": "3.7.6"
  }
 },
 "nbformat": 4,
 "nbformat_minor": 4
}

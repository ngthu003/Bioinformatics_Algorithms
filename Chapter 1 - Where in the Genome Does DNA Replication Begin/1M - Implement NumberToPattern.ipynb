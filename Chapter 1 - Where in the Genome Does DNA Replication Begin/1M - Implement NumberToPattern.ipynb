{
 "cells": [
  {
   "cell_type": "markdown",
   "metadata": {},
   "source": [
    "__[Problem 1M](http://rosalind.info/problems/ba1m/)__\n",
    "\n",
    ">  __Implement NumberToPattern__ - `NumberToPattern(index,k)`\n",
    "\n",
    "*Objective:* Convert a DNA string to a number\n",
    "\n",
    "*  Input: integers *index* and $k$ (the length of the string)\n",
    "*  Output: the associated DNA string"
   ]
  },
  {
   "cell_type": "code",
   "execution_count": 1,
   "metadata": {},
   "outputs": [],
   "source": [
    "DNADict = {'A': 0, 'C': 1, 'G': 2, 'T': 3}\n",
    "def NumberToPattern(index,k):\n",
    "    string = str()\n",
    "    while (index // 4) != 0:\n",
    "        remainder = index % 4\n",
    "        string = list(DNADict.keys())[remainder] + string\n",
    "        index = index // 4\n",
    "    if index != 0:\n",
    "        string = list(DNADict.keys())[index] + string\n",
    "    while len(string) < k:\n",
    "        string = 'A' + string\n",
    "    return string"
   ]
  },
  {
   "cell_type": "code",
   "execution_count": 2,
   "metadata": {},
   "outputs": [
    {
     "name": "stdout",
     "output_type": "stream",
     "text": [
      "Sample test: The associated DNA string is AGTC\n"
     ]
    }
   ],
   "source": [
    "print('Sample test: The associated DNA string is ' + NumberToPattern(45,4))"
   ]
  },
  {
   "cell_type": "markdown",
   "metadata": {},
   "source": [
    "<br/>\n",
    "\n",
    "[Rosalind final test:](http://rosalind.info/problems/ba1m/)"
   ]
  },
  {
   "cell_type": "code",
   "execution_count": 3,
   "metadata": {},
   "outputs": [
    {
     "name": "stdout",
     "output_type": "stream",
     "text": [
      "The associated DNA string is AAAACCGTCAA\n"
     ]
    }
   ],
   "source": [
    "print('The associated DNA string is ' + NumberToPattern(5840,11))"
   ]
  }
 ],
 "metadata": {
  "kernelspec": {
   "display_name": "Python 3",
   "language": "python",
   "name": "python3"
  },
  "language_info": {
   "codemirror_mode": {
    "name": "ipython",
    "version": 3
   },
   "file_extension": ".py",
   "mimetype": "text/x-python",
   "name": "python",
   "nbconvert_exporter": "python",
   "pygments_lexer": "ipython3",
   "version": "3.7.6"
  }
 },
 "nbformat": 4,
 "nbformat_minor": 4
}

{
 "cells": [
  {
   "cell_type": "markdown",
   "metadata": {},
   "source": [
    "__[Problem 1L](http://rosalind.info/problems/ba1l/)__\n",
    "\n",
    ">  __Implement PatternToNumber__ - `PatternToNumber(Pattern)`\n",
    "\n",
    "*Objective:* Convert a DNA string to a number\n",
    "\n",
    "*  Input: a DNA string *Pattern*\n",
    "*  Output: the integer associated with the *Pattern*, in modulo $4$"
   ]
  },
  {
   "cell_type": "code",
   "execution_count": 1,
   "metadata": {},
   "outputs": [],
   "source": [
    "DNADict = {'A': 0, 'C': 1, 'G': 2, 'T': 3}\n",
    "def PatternToNumber(Pattern):\n",
    "    count = 0\n",
    "    k = len(Pattern)\n",
    "    for i in range(k):\n",
    "        char = Pattern[i]\n",
    "        count += 4**(k-1-i) * DNADict[char]\n",
    "    return count"
   ]
  },
  {
   "cell_type": "code",
   "execution_count": 2,
   "metadata": {},
   "outputs": [
    {
     "name": "stdout",
     "output_type": "stream",
     "text": [
      "Sample test: The associated number is 11\n"
     ]
    }
   ],
   "source": [
    "print('Sample test: The associated number is ' + str(PatternToNumber('AGT')))"
   ]
  },
  {
   "cell_type": "markdown",
   "metadata": {},
   "source": [
    "<br/>\n",
    "\n",
    "[Rosalind final test:](http://rosalind.info/problems/ba1l/)"
   ]
  },
  {
   "cell_type": "code",
   "execution_count": 3,
   "metadata": {},
   "outputs": [
    {
     "name": "stdout",
     "output_type": "stream",
     "text": [
      "The associated number is 60258683991848002\n"
     ]
    }
   ],
   "source": [
    "print('The associated number is ' + str(PatternToNumber('ATCCGACCATTCAAGTCTTCTCTCACAAG')))"
   ]
  }
 ],
 "metadata": {
  "kernelspec": {
   "display_name": "Python 3",
   "language": "python",
   "name": "python3"
  },
  "language_info": {
   "codemirror_mode": {
    "name": "ipython",
    "version": 3
   },
   "file_extension": ".py",
   "mimetype": "text/x-python",
   "name": "python",
   "nbconvert_exporter": "python",
   "pygments_lexer": "ipython3",
   "version": "3.7.6"
  }
 },
 "nbformat": 4,
 "nbformat_minor": 4
}

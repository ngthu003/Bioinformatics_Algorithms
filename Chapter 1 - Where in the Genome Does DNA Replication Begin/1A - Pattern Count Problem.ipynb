{
 "cells": [
  {
   "cell_type": "markdown",
   "metadata": {},
   "source": [
    "__[Problem 1A](http://rosalind.info/problems/ba1a/)__\n",
    "\n",
    ">  __Pattern Count Problem__ - `PatternCount(Text,Pattern)`\n",
    "\n",
    "*Objective:* Find the count of a given *Pattern* in a *Text* string\n",
    "\n",
    "*  Input: strings of *Text* and *Pattern*\n",
    "*  Output: the number of times *Pattern* appears in *Text* as a substring"
   ]
  },
  {
   "cell_type": "code",
   "execution_count": 1,
   "metadata": {},
   "outputs": [],
   "source": [
    "def PatternCount( Text, Pattern ):\n",
    "    t, p = len(Text), len(Pattern)\n",
    "    count = 0\n",
    "    for i in range(0, t-p+1):\n",
    "        if Text[i:i+p] == Pattern:\n",
    "            count += 1\n",
    "    return count"
   ]
  },
  {
   "cell_type": "code",
   "execution_count": 2,
   "metadata": {},
   "outputs": [
    {
     "name": "stdout",
     "output_type": "stream",
     "text": [
      "Sample test: Count is 2\n"
     ]
    }
   ],
   "source": [
    "print('Sample test: Count is ' + str(PatternCount('GCGCG', 'GCG')))"
   ]
  },
  {
   "cell_type": "code",
   "execution_count": 3,
   "metadata": {},
   "outputs": [
    {
     "name": "stdout",
     "output_type": "stream",
     "text": [
      "Test 1: Count is 3\n"
     ]
    }
   ],
   "source": [
    "print('Test 1: Count is ' + str(PatternCount('ACGTACGTACGT', 'CG')))"
   ]
  },
  {
   "cell_type": "code",
   "execution_count": 4,
   "metadata": {},
   "outputs": [
    {
     "name": "stdout",
     "output_type": "stream",
     "text": [
      "Test 2: Count is 4\n"
     ]
    }
   ],
   "source": [
    "test2 = 'AAAGAGTGTCTGATAGCAGCTTCTGAACTGGTTACCTGCCGTGAGTAAATTAAATTTTATTGACTTAGGTCACTAAATACTTTAACCAATATAGGCATAGCGCACAGACAGATAATAATTACAGAGTACACAACATCCAT'\n",
    "print('Test 2: Count is ' + str(PatternCount(test2, 'AAA')))"
   ]
  },
  {
   "cell_type": "code",
   "execution_count": 5,
   "metadata": {},
   "outputs": [
    {
     "name": "stdout",
     "output_type": "stream",
     "text": [
      "Test 3: Count is 4\n"
     ]
    }
   ],
   "source": [
    "test3 = 'AGCGTGCCGAAATATGCCGCCAGACCTGCTGCGGTGGCCTCGCCGACTTCACGGATGCCAAGTGCATAGAGGAAGCGAGCAAAGGTGGTTTCTTTCGCTTTATCCAGCGCGTTAACCACGTTCTGTGCCGACTTT'\n",
    "print('Test 3: Count is ' + str(PatternCount(test3, 'TTT')))"
   ]
  },
  {
   "cell_type": "code",
   "execution_count": 6,
   "metadata": {},
   "outputs": [
    {
     "name": "stdout",
     "output_type": "stream",
     "text": [
      "Test 4: Count is 2\n"
     ]
    }
   ],
   "source": [
    "print('Test 4: Count is ' + str(PatternCount('GGACTTACTGACGTACG', 'ACT')))"
   ]
  },
  {
   "cell_type": "code",
   "execution_count": 7,
   "metadata": {},
   "outputs": [
    {
     "name": "stdout",
     "output_type": "stream",
     "text": [
      "Test 5: Count is 5\n"
     ]
    }
   ],
   "source": [
    "print('Test 5: Count is ' + str(PatternCount('ATCCGATCCCATGCCCATG', 'CC')))"
   ]
  },
  {
   "cell_type": "code",
   "execution_count": 8,
   "metadata": {},
   "outputs": [
    {
     "name": "stdout",
     "output_type": "stream",
     "text": [
      "Test 6: Count is 9\n"
     ]
    }
   ],
   "source": [
    "test6 = 'CTGTTTTTGATCCATGATATGTTATCTCTCCGTCATCAGAAGAACAGTGACGGATCGCCCTCTCTCTTGGTCAGGCGACCGTTTGCCATAATGCCCATGCTTTCCAGCCAGCTCTCAAACTCCGGTGACTCGCGCAGGTTGAGTA'\n",
    "print('Test 6: Count is ' + str(PatternCount(test6, 'CTC')))"
   ]
  },
  {
   "cell_type": "markdown",
   "metadata": {},
   "source": [
    "<br/>\n",
    "\n",
    "[Rosalind final test:](http://rosalind.info/problems/ba1a/)"
   ]
  },
  {
   "cell_type": "code",
   "execution_count": 9,
   "metadata": {},
   "outputs": [
    {
     "name": "stdout",
     "output_type": "stream",
     "text": [
      "Count is 29\n"
     ]
    }
   ],
   "source": [
    "test = 'GTCATGAGACGTCATGAGTGTCATGACTGTCATGATAAGTCATGACAAGTCATGAATACCACTGTCATGAGTCATGATACCCGTCATGACAGGAAACTGTGCGTCATGAGACGCCACGTCATGAAGGTCATGAGTTGTCATGAGGTGTCATGAGTCATGATGTCATGAGGTCATGATCAAGAAAGTCATGAGTCATGATCCCAATGTCATGAGTCATGAGGGCTTAGCGTCATGAGTCATGAGTCATGAAGGGTCATGAGTCATGACGTCATGACTTCGTCATGATTTTGTCATGATCGTCATGAGTATCCCAGTCATGAATCTGGTCATGAGGTCATGAGTCATGACCAGGGTCATGAGGTCATGAGTCATGAAGTCATGAGTGAGTCATGAGTCATGAGTCATGATGTCATGACGTCATGATGTCATGAAGCTAGTCGTCATGAGTGTCATGAGTCATGACATTGTCATGATGTCATGAGAGTCATGAGTCATGAGGTCATGAATGGCGTCATGACCATCGTCATGACAGTGTGTCATGAGGTCATGACTGTCATGAGTCATGATAAGTCTCGTGTCATGAGTCATGACGTCATGAGCGTCATGAGTCATGACTTACCAAGTCATGATTAAGGTGTCATGAGTCATGATGTCATGATAAGGCGTCATGACAGTCATGACGGGATGGGTCATGAGCGATGCGGTCATGAGAGTGGATGTCATGACGTCATGAGGTCATGAAACGTGATCCTTGTCATGAGTCATGAGTCATGATGTCATGATCCGTCATGAAATCTAACATGAACTATCTGTCATGAGTCATGAGTCATGACGTCATGAAGTCATGAGTCATGACCGATGAAGATGTCATGATTAGTCATGAGGTCATGAGAGAGCGTGGGTCATGAGTCTTGTCATGACTGTCATGATCTGTCATGATGTCATGACGGTCATGATCGTCATGAGATTTAAAGGTCATGAATCGTCATGAGTCATGAGGAT'\n",
    "patt = 'GTCATGAGT'\n",
    "print( 'Count is ' + str(PatternCount(test, patt)))"
   ]
  }
 ],
 "metadata": {
  "kernelspec": {
   "display_name": "Python 3",
   "language": "python",
   "name": "python3"
  },
  "language_info": {
   "codemirror_mode": {
    "name": "ipython",
    "version": 3
   },
   "file_extension": ".py",
   "mimetype": "text/x-python",
   "name": "python",
   "nbconvert_exporter": "python",
   "pygments_lexer": "ipython3",
   "version": "3.7.6"
  }
 },
 "nbformat": 4,
 "nbformat_minor": 4
}

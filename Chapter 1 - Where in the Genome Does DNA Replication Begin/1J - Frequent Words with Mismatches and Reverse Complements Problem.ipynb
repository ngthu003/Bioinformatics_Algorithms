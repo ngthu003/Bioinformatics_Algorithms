{
 "cells": [
  {
   "cell_type": "markdown",
   "metadata": {},
   "source": [
    "__[Problem 1J](http://rosalind.info/problems/ba1j/)__\n",
    "\n",
    ">  __Frequent Words with Mismatches and Reverse Complements Problem__ - `FreqWordsMismatchesRevComplements( text, k, d )`\n",
    "\n",
    "*Objective:* Find most frequent $k$-mers (with mismatches and reverse complements) in a DNA string\n",
    "\n",
    "*  Input: a DNA string (*Text*), and integers $k, d$\n",
    "*  Output: all most frequent $k$-mers *Pattern* maximizing the sum $\\textit{Count}_d(\\textit{Text, Pattern}) + \\textit{Count}_d(\\textit{Text}, \\overline{\\textit{Pattern}})$ over all possible $k$-mers\n",
    "\n",
    "Def:\n",
    "*  given strings *Text*, *Pattern*, and integer $d$, we define $\\textit{Count}_d(\\textit{Text, Pattern})$ as the total number of occurences of *Pattern* in *Text* with a most $d$ mismatches,\n",
    "*  a __most frequent $k$-mer with up to $d$ mismatches__ is *Text* is a string *Pattern* maximizing $\\textit{Count}_d(\\textit{Text, Pattern})$ among all $k$-mers."
   ]
  },
  {
   "cell_type": "code",
   "execution_count": 1,
   "metadata": {},
   "outputs": [],
   "source": [
    "DNAdict = {'A': 'T', 'T': 'A', 'C': 'G', 'G': 'C'}\n",
    "\n",
    "def ReverseComplement( Pattern ):\n",
    "    RC = str()\n",
    "    for i in reversed(Pattern):\n",
    "        if i in DNAdict.keys():\n",
    "            RC += DNAdict[i]\n",
    "        else:\n",
    "            RC = 'Wrong DNA'\n",
    "            break\n",
    "    return RC"
   ]
  },
  {
   "cell_type": "code",
   "execution_count": 2,
   "metadata": {},
   "outputs": [],
   "source": [
    "def HammingDistance(String1, String2):\n",
    "    if len(String1) != len(String2):\n",
    "        distance = 'Error: Lengths do not match.'\n",
    "    else:\n",
    "        distance = 0\n",
    "        for i in range(0,len(String1)):\n",
    "            if String1[i] != String2[i]:\n",
    "                distance += 1\n",
    "    return distance"
   ]
  },
  {
   "cell_type": "code",
   "execution_count": 3,
   "metadata": {},
   "outputs": [],
   "source": [
    "def d_Nbhd(Pattern, d):\n",
    "    \n",
    "    # Trivial cases\n",
    "    if d == 0:\n",
    "        return Pattern\n",
    "    if len(Pattern) == 1:\n",
    "        return ['A', 'C', 'G', 'T']\n",
    "    \n",
    "    Nbhd = set()\n",
    "    Suffix_Pattern = Pattern[1:]\n",
    "    Suffix_Nbhd = d_Nbhd(Suffix_Pattern, d)\n",
    "    \n",
    "    for text in Suffix_Nbhd:\n",
    "        if HammingDistance(Suffix_Pattern, text) < d:\n",
    "            for x in ['A', 'C', 'G', 'T']:\n",
    "                if (x + text) not in Nbhd:\n",
    "                    Nbhd.add(x + text)\n",
    "        else:\n",
    "            if (Pattern[0] + text) not in Nbhd:\n",
    "                Nbhd.add(Pattern[0] + text)\n",
    "        \n",
    "    return Nbhd"
   ]
  },
  {
   "cell_type": "code",
   "execution_count": 4,
   "metadata": {},
   "outputs": [],
   "source": [
    "def FreqWordsMismatchesRevComplements( Text, k, d ):\n",
    "    \n",
    "    # Initialize helper values, lists\n",
    "    noChar = len(Text)\n",
    "    pttn_Nbhd = set()\n",
    "    \n",
    "    # Loop 1: Get all possible k-mers with <= d mismatches from what observed\n",
    "    for i in range(0, noChar-k+1):\n",
    "        pattern = Text[i:i+k]\n",
    "        # Small fix for if d=0, pattern is a set of length 1, need to convert to list\n",
    "        if d == 0:\n",
    "            pttn_Nbhd = pttn_Nbhd.union([d_Nbhd(pattern, d)])\n",
    "        else:\n",
    "            pttn_Nbhd = pttn_Nbhd.union(d_Nbhd(pattern, d))\n",
    "    \n",
    "    # Given all d-nbhd patterns, find each Reverse Complement\n",
    "    pttn_Nbhd = list(pttn_Nbhd)\n",
    "    pttn_RC = []\n",
    "    for pttn in pttn_Nbhd:\n",
    "        RevComp = ReverseComplement(pttn)\n",
    "        pttn_RC.append(RevComp)\n",
    "     \n",
    "    # Loop 2: Get Frequency of each of those k-mers from from Loop 1\n",
    "    count_arr_Pttn = []\n",
    "    for pttn in pttn_Nbhd:\n",
    "        # Initialize count of current pattern\n",
    "        count = 0\n",
    "        # Loop 2.1: Consider each pattern string in Text\n",
    "        for i in range(0, noChar-k+1):\n",
    "            # Get current string\n",
    "            stringText = Text[i:i+k]\n",
    "            # Check for if Hamming distance <= d\n",
    "            if HammingDistance(pttn, stringText) <= d:\n",
    "                count += 1\n",
    "        # Done counting, add to record\n",
    "        count_arr_Pttn.append(count)\n",
    "        \n",
    "    # Loop 3: Get Frequency of each of the respective Reverse Complement from from Loop 1\n",
    "    count_arr_RC = []\n",
    "    for pttn in pttn_RC:\n",
    "        # Initialize count of current pattern\n",
    "        count = 0\n",
    "        # Loop 2.1: Consider each pattern string in Text\n",
    "        for i in range(0, noChar-k+1):\n",
    "            # Get current string\n",
    "            stringText = Text[i:i+k]\n",
    "            # Check for if Hamming distance <= d\n",
    "            if HammingDistance(pttn, stringText) <= d:\n",
    "                count += 1\n",
    "        # Done counting, add to record\n",
    "        count_arr_RC.append(count)\n",
    "    \n",
    "    # Add Count(pattern) + Count(RevComp(pattern))\n",
    "    count_arr_All = []\n",
    "    for i in range(0,len(count_arr_Pttn)):\n",
    "        count_arr_All.append(count_arr_Pttn[i] + count_arr_RC[i])\n",
    "    max_count = max(count_arr_All)\n",
    "    indices = [i for i, x in enumerate(count_arr_All) if x == max_count]\n",
    "    \n",
    "    # Get the most frequent k-mer patterns\n",
    "    most_freq = []\n",
    "    for i in range(0,len(indices)):\n",
    "        most_freq.append(pttn_Nbhd[indices[i]])\n",
    "        most_freq.append(pttn_RC[indices[i]])\n",
    "    \n",
    "    return set(most_freq)"
   ]
  },
  {
   "cell_type": "code",
   "execution_count": 5,
   "metadata": {},
   "outputs": [
    {
     "name": "stdout",
     "output_type": "stream",
     "text": [
      "Sample test: {'ATGT', 'ACAT'}\n"
     ]
    }
   ],
   "source": [
    "Text = 'ACGTTGCATGTCGCATGATGCATGAGAGCT'\n",
    "print('Sample test: ' + str(FreqWordsMismatchesRevComplements(Text,4,1)))"
   ]
  },
  {
   "cell_type": "code",
   "execution_count": 6,
   "metadata": {},
   "outputs": [
    {
     "name": "stdout",
     "output_type": "stream",
     "text": [
      "Test 1: {'AT', 'TA'}\n"
     ]
    }
   ],
   "source": [
    "Text = 'AAAAAAAAAA'\n",
    "print('Test 1: ' + str(FreqWordsMismatchesRevComplements(Text,2,1)))"
   ]
  },
  {
   "cell_type": "code",
   "execution_count": 7,
   "metadata": {},
   "outputs": [
    {
     "name": "stdout",
     "output_type": "stream",
     "text": [
      "Test 2: {'AATT', 'GGCC'}\n"
     ]
    }
   ],
   "source": [
    "Text = 'AGTCAGTC'\n",
    "print('Test 2: ' + str(FreqWordsMismatchesRevComplements(Text,4,2)))"
   ]
  },
  {
   "cell_type": "code",
   "execution_count": 8,
   "metadata": {},
   "outputs": [
    {
     "name": "stdout",
     "output_type": "stream",
     "text": [
      "Test 3: {'AATT'}\n"
     ]
    }
   ],
   "source": [
    "Text = 'AATTAATTGGTAGGTAGGTA'\n",
    "print('Test 3: ' + str(FreqWordsMismatchesRevComplements(Text,4,0)))"
   ]
  },
  {
   "cell_type": "code",
   "execution_count": 9,
   "metadata": {},
   "outputs": [
    {
     "name": "stdout",
     "output_type": "stream",
     "text": [
      "Test 4: {'TGT', 'TAG', 'TAA', 'ATG', 'TCT', 'ATA', 'TAT', 'CTA', 'AAA', 'AAT', 'CAT', 'TAC', 'GTA', 'ACA', 'ATC', 'TTA', 'GAT', 'TTT', 'AGA', 'ATT'}\n"
     ]
    }
   ],
   "source": [
    "Text = 'ATA'\n",
    "print('Test 4: ' + str(FreqWordsMismatchesRevComplements(Text,3,1)))"
   ]
  },
  {
   "cell_type": "code",
   "execution_count": 10,
   "metadata": {},
   "outputs": [
    {
     "name": "stdout",
     "output_type": "stream",
     "text": [
      "Test 5: {'AAT', 'ATT'}\n"
     ]
    }
   ],
   "source": [
    "Text = 'AAT'\n",
    "print('Test 5: ' + str(FreqWordsMismatchesRevComplements(Text,3,0)))"
   ]
  },
  {
   "cell_type": "code",
   "execution_count": 11,
   "metadata": {},
   "outputs": [
    {
     "name": "stdout",
     "output_type": "stream",
     "text": [
      "Test 6: {'CA', 'CC', 'GG', 'TG'}\n"
     ]
    }
   ],
   "source": [
    "Text = 'TAGCG'\n",
    "print('Test 6: ' + str(FreqWordsMismatchesRevComplements(Text,2,1)))"
   ]
  },
  {
   "cell_type": "code",
   "execution_count": 12,
   "metadata": {},
   "outputs": [
    {
     "name": "stdout",
     "output_type": "stream",
     "text": [
      "Extra Test: {'AGCGGCGCT', 'AGCGCCGCT'}\n"
     ]
    }
   ],
   "source": [
    "Text = 'CTTGCCGGCGCCGATTATACGATCGCGGCCGCTTGCCTTCTTTATAATGCATCGGCGCCGCGATCTTGCTATATACGTACGCTTCGCTTGCATCTTGCGCGCATTACGTACTTATCGATTACTTATCTTCGATGCCGGCCGGCATATGCCGCTTTAGCATCGATCGATCGTACTTTACGCGTATAGCCGCTTCGCTTGCCGTACGCGATGCTAGCATATGCTAGCGCTAATTACTTAT'\n",
    "print('Extra Test: ' + str(FreqWordsMismatchesRevComplements(Text,9,3)))"
   ]
  },
  {
   "cell_type": "markdown",
   "metadata": {},
   "source": [
    "<br/>\n",
    "\n",
    "[Rosalind final test:](http://rosalind.info/problems/ba1i/)"
   ]
  },
  {
   "cell_type": "code",
   "execution_count": 13,
   "metadata": {},
   "outputs": [
    {
     "name": "stdout",
     "output_type": "stream",
     "text": [
      "Final test: {'TTTAAA'}\n"
     ]
    }
   ],
   "source": [
    "Text = 'GCGGTTACGATAGAAGCCTACACGCGACGAATTAATCTAGCGTTTCTACACGCGACGAGCGTTTCTAGCGTTTCTGCGGTTACGAGCGTTTCTAATTAATCTGCGGTTACGACACGCGACGGCGGTTACGATAGAAGCCTGCGGTTACGAATTAATCTAATTAATCTGCGGTTACGGCGGTTACGATAGAAGCCTATAGAAGCCTGCGGTTACGAGCGTTTCTACACGCGACGAGCGTTTCTAATTAATCTATAGAAGCCTGCGGTTACGAGCGTTTCTATAGAAGCCTATAGAAGCCTAATTAATCTAGCGTTTCTATAGAAGCCTATAGAAGCCTAATTAATCTGCGGTTACGGCGGTTACGGCGGTTACGGCGGTTACGATAGAAGCCTATAGAAGCCTAATTAATCTATAGAAGCCTAATTAATCTGCGGTTACGGCGGTTACGGCGGTTACGAGCGTTTCTAGCGTTTCTGCGGTTACGAATTAATCTGCGGTTACGAATTAATCTAGCGTTTCTAGCGTTTCTACACGCGACGAGCGTTTCTAGCGTTTCTAATTAATCTACACGCGACGGCGGTTACGAGCGTTTCTGCGGTTACGAATTAATCTAGCGTTTCTGCGGTTACGGCGGTTACGGCGGTTACGAGCGTTTCTAATTAATCTATAGAAGCCTAATTAATCTATAGAAGCCTACACGCGACGAGCGTTTCTAGCGTTTCTAATTAATCTGCGGTTACGATAGAAGCCTGCGGTTACGAGCGTTTCTATAGAAGCCTAATTAATCTAATTAATCTATAGAAGCCTGCGGTTACGAGCGTTTCTAATTAATCTGCGGTTACGAATTAATCTACACGCGACGACACGCGACGGCGGTTACGACACGCGACG'\n",
    "answer = FreqWordsMismatchesRevComplements(Text,6,3)\n",
    "print('Final test: ' + str(answer))"
   ]
  }
 ],
 "metadata": {
  "kernelspec": {
   "display_name": "Python 3",
   "language": "python",
   "name": "python3"
  },
  "language_info": {
   "codemirror_mode": {
    "name": "ipython",
    "version": 3
   },
   "file_extension": ".py",
   "mimetype": "text/x-python",
   "name": "python",
   "nbconvert_exporter": "python",
   "pygments_lexer": "ipython3",
   "version": "3.7.6"
  }
 },
 "nbformat": 4,
 "nbformat_minor": 4
}

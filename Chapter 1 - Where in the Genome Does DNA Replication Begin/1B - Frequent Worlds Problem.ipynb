{
 "cells": [
  {
   "cell_type": "markdown",
   "metadata": {},
   "source": [
    "__[Problem 1B](http://rosalind.info/problems/ba1b/)__\n",
    "\n",
    ">  __Frequent Worlds Problem__ - `FrequentWords(Text,k)`\n",
    "\n",
    "*Objective:* Find the most frequent $k$-mers in a string\n",
    "\n",
    "*  Input: a DNA string *Text* and an integer $k$\n",
    "*  Output: all most frequent $k$-mers in *Text*"
   ]
  },
  {
   "cell_type": "code",
   "execution_count": 1,
   "metadata": {},
   "outputs": [],
   "source": [
    "import numpy as np"
   ]
  },
  {
   "cell_type": "code",
   "execution_count": 2,
   "metadata": {},
   "outputs": [],
   "source": [
    "def FrequentWords( Text, k ):\n",
    "    \n",
    "    FrequentPatterns = []\n",
    "    t = len(Text)\n",
    "    count = [0]*(t-k)\n",
    "    for i in range(0, t-k):\n",
    "        Pattern = Text[i:i+k]\n",
    "        count[i] = PatternCount( Text, Pattern )\n",
    "        \n",
    "    maxCount = max(count)\n",
    "    \n",
    "    for i in range(0, t-k):\n",
    "        if count[i] == maxCount:\n",
    "            FrequentPatterns.append(Text[i:i+k])\n",
    "    \n",
    "    return np.unique(FrequentPatterns)"
   ]
  },
  {
   "cell_type": "code",
   "execution_count": 3,
   "metadata": {},
   "outputs": [],
   "source": [
    "def PatternCount( Text, Pattern ):\n",
    "    t, p = len(Text), len(Pattern)\n",
    "    count = 0\n",
    "    for i in range(0, t-p+1):\n",
    "        if Text[i:i+p] == Pattern:\n",
    "            count += 1\n",
    "    return count"
   ]
  },
  {
   "cell_type": "code",
   "execution_count": 4,
   "metadata": {},
   "outputs": [
    {
     "name": "stdout",
     "output_type": "stream",
     "text": [
      "Sample test: Most frequent k-mers: ['CATG' 'GCAT']\n"
     ]
    }
   ],
   "source": [
    "print('Sample test: Most frequent k-mers: ' + str(FrequentWords('ACGTTGCATGTCGCATGATGCATGAGAGCT', 4)))"
   ]
  },
  {
   "cell_type": "code",
   "execution_count": 5,
   "metadata": {},
   "outputs": [
    {
     "name": "stdout",
     "output_type": "stream",
     "text": [
      "Test 1: Most frequent k-mers: ['TGG']\n"
     ]
    }
   ],
   "source": [
    "test1 = 'TGGTAGCGACGTTGGTCCCGCCGCTTGAGAATCTGGATGAACATAAGCTCCCACTTGGCTTATTCAGAGAACTGGTCAACACTTGTCTCTCCCAGCCAGGTCTGACCACCGGGCAACTTTTAGAGCACTATCGTGGTACAAATAATGCTGCCAC'\n",
    "print('Test 1: Most frequent k-mers: ' + str(FrequentWords(test1, 3)))"
   ]
  },
  {
   "cell_type": "code",
   "execution_count": 6,
   "metadata": {},
   "outputs": [
    {
     "name": "stdout",
     "output_type": "stream",
     "text": [
      "Test 2: Most frequent k-mers: ['TTTT']\n"
     ]
    }
   ],
   "source": [
    "test2 = 'CAGTGGCAGATGACATTTTGCTGGTCGACTGGTTACAACAACGCCTGGGGCTTTTGAGCAACGAGACTTTTCAATGTTGCACCGTTTGCTGCATGATATTGAAAACAATATCACCAAATAAATAACGCCTTAGTAAGTAGCTTTT'\n",
    "print('Test 2: Most frequent k-mers: ' + str(FrequentWords(test2, 4)))"
   ]
  },
  {
   "cell_type": "code",
   "execution_count": 7,
   "metadata": {},
   "outputs": [
    {
     "name": "stdout",
     "output_type": "stream",
     "text": [
      "Test 3: Most frequent k-mers: ['AACAA']\n"
     ]
    }
   ],
   "source": [
    "test3 = 'ATACAATTACAGTCTGGAACCGGATGAACTGGCCGCAGGTTAACAACAGAGTTGCCAGGCACTGCCGCTGACCAGCAACAACAACAATGACTTTGACGCGAAGGGGATGGCATGAGCGAACTGATCGTCAGCCGTCAGCAACGAGTATTGTTGCTGACCCTTAACAATCCCGCCGCACGTAATGCGCTAACTAATGCCCTGCTG'\n",
    "print('Test 3: Most frequent k-mers: ' + str(FrequentWords(test3, 5)))"
   ]
  },
  {
   "cell_type": "code",
   "execution_count": 8,
   "metadata": {},
   "outputs": [
    {
     "name": "stdout",
     "output_type": "stream",
     "text": [
      "Test 4: Most frequent k-mers: ['AAAAT' 'GGGGT' 'TTTTA']\n"
     ]
    }
   ],
   "source": [
    "test4 = 'CCAGCGGGGGTTGATGCTCTGGGGGTCACAAGATTGCATTTTTATGGGGTTGCAAAAATGTTTTTTACGGCAGATTCATTTAAAATGCCCACTGGCTGGAGACATAGCCCGGATGCGCGTCTTTTACAACGTATTGCGGGGTAAAATCGTAGATGTTTTAAAATAGGCGTAAC'\n",
    "print('Test 4: Most frequent k-mers: ' + str(FrequentWords(test4, 5)))"
   ]
  },
  {
   "cell_type": "markdown",
   "metadata": {},
   "source": [
    "<br/>\n",
    "\n",
    "[Rosalind final test:](http://rosalind.info/problems/ba1b/)"
   ]
  },
  {
   "cell_type": "code",
   "execution_count": 9,
   "metadata": {},
   "outputs": [
    {
     "name": "stdout",
     "output_type": "stream",
     "text": [
      "Most frequent k-mers: ['GCACCAAGTAAC' 'TGCACCAAGTAA']\n"
     ]
    }
   ],
   "source": [
    "test = 'CACCATAAGAAACTGTATGTGCACCAAGTCACCATAAGATGCACCAAGTTTCATGTATTCATGTAAACCGCTAGCACCATAAGAAACCGCTAGTGCACCAAGTTGCACCAAGTCACCATAAGAAACTGTATGAACCGCTAGTGCACCAAGTAACCGCTAGCACCATAAGATTCATGTACACCATAAGATGCACCAAGTTGCACCAAGTTTCATGTATGCACCAAGTAACTGTATGTGCACCAAGTCACCATAAGACACCATAAGAAACTGTATGCACCATAAGAAACTGTATGTGCACCAAGTAACTGTATGAACCGCTAGTTCATGTATTCATGTACACCATAAGATGCACCAAGTTGCACCAAGTTTCATGTAAACTGTATGAACCGCTAGCACCATAAGATGCACCAAGTAACTGTATGAACCGCTAGTTCATGTATTCATGTAAACTGTATGTTCATGTACACCATAAGAAACCGCTAGAACCGCTAGTTCATGTACACCATAAGACACCATAAGAAACTGTATGCACCATAAGATTCATGTAAACTGTATGAACCGCTAGTTCATGTATGCACCAAGTAACCGCTAGTGCACCAAGTAACCGCTAGAACCGCTAGCACCATAAGATTCATGTACACCATAAGACACCATAAGACACCATAAGACACCATAAGACACCATAAGATGCACCAAGTAACTGTATGCACCATAAGAAACTGTATGTTCATGTATGCACCAAGTTGCACCAAGTAACTGTATGTGCACCAAGTAACTGTATGAACTGTATGTGCACCAAGTTTCATGTATTCATGTAAACCGCTAGAACCGCTAGTGCACCAAGTTGCACCAAGTAACCGCTAGAACTGTATGTTCATGTATGCACCAAGTTGCACCAAGTTTCATGTATGCACCAAGT'\n",
    "print('Most frequent k-mers: ' + str(FrequentWords(test, 12)))"
   ]
  }
 ],
 "metadata": {
  "kernelspec": {
   "display_name": "Python 3",
   "language": "python",
   "name": "python3"
  },
  "language_info": {
   "codemirror_mode": {
    "name": "ipython",
    "version": 3
   },
   "file_extension": ".py",
   "mimetype": "text/x-python",
   "name": "python",
   "nbconvert_exporter": "python",
   "pygments_lexer": "ipython3",
   "version": "3.7.6"
  }
 },
 "nbformat": 4,
 "nbformat_minor": 4
}
